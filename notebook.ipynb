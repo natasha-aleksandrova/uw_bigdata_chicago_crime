{
 "cells": [
  {
   "cell_type": "markdown",
   "metadata": {},
   "source": [
    "# Chicago Crime Statistics\n",
    "\n",
    "## Data\n",
    "\n",
    "### Chicago Crime [Source: https://www.kaggle.com/currie32/crimes-in-chicago/data]\n",
    "Crimes in Chicago from 2001 to 2017 (1.85GB)\n",
    "\n",
    "This data is broken up into 4 files:<br>\n",
    "Chicago_Crimes_2001_to_2004.csv<br>\n",
    "Chicago_Crimes_2005_to_2007.csv<br>\n",
    "Chicago_Crimes_2008_to_2011.csv<br>\n",
    "Chicago_Crimes_2012_to_2017.csv<br>\n",
    "\n",
    "### Community Areas [Source: https://data.cityofchicago.org/Facilities-Geographic-Boundaries/Boundaries-Community-Areas-current-/cauq-8yn6]\n",
    "Fairly small csv (CommAreas.csv), provides Name of the community that can be tied back to Chicago Crimes csvs. \n"
   ]
  },
  {
   "cell_type": "code",
   "execution_count": 9,
   "metadata": {},
   "outputs": [
    {
     "name": "stdout",
     "output_type": "stream",
     "text": [
      "Columns:\n",
      "the_geom (StringType)\n",
      "PERIMETER (IntegerType)\n",
      "AREA (IntegerType)\n",
      "COMAREA_ (IntegerType)\n",
      "COMAREA_ID (IntegerType)\n",
      "AREA_NUMBE (IntegerType)\n",
      "COMMUNITY (StringType)\n",
      "AREA_NUM_1 (IntegerType)\n",
      "SHAPE_AREA (DoubleType)\n",
      "SHAPE_LEN (DoubleType)\n",
      "+--------------------------------+\n",
      "Columns:\n",
      "_c0 (IntegerType)\n",
      "ID (IntegerType)\n",
      "Case Number (StringType)\n",
      "Date (StringType)\n",
      "Block (StringType)\n",
      "IUCR (StringType)\n",
      "Primary Type (StringType)\n",
      "Description (StringType)\n",
      "Location Description (StringType)\n",
      "Arrest (StringType)\n",
      "Domestic (StringType)\n",
      "Beat (StringType)\n",
      "District (StringType)\n",
      "Ward (StringType)\n",
      "Community Area (StringType)\n",
      "FBI Code (StringType)\n",
      "X Coordinate (StringType)\n",
      "Y Coordinate (StringType)\n",
      "Year (StringType)\n",
      "Updated On (StringType)\n",
      "Latitude (StringType)\n",
      "Longitude (StringType)\n",
      "Location (StringType)\n",
      "+--------------------------------+\n"
     ]
    }
   ],
   "source": [
    "from pyspark.sql import functions as func\n",
    "from pyspark.sql.types import StringType\n",
    "import matplotlib.pyplot as plt\n",
    "import pandas\n",
    "\n",
    "def print_cols_types(df):\n",
    "    print(\"Columns:\")\n",
    "    for f in df.schema.fields:\n",
    "        print(\"%s (%s)\" % (f.name, f.dataType))\n",
    "    print('+--------------------------------+')\n",
    "    \n",
    "areas_df = sqlContext.read.load(\"hdfs://sandbox.hortonworks.com:8020/bigdata1_final_project/CommAreas.csv\",\n",
    "                        format='com.databricks.spark.csv',\n",
    "                        header='true',\n",
    "                        inferSchema=True)\n",
    "print_cols_types(areas_df)\n",
    "\n",
    "\n",
    "crime_df = sqlContext.read.load(\"hdfs://sandbox.hortonworks.com:8020/bigdata1_final_project/Chicago_Crimes_*.csv\",\n",
    "                        format='com.databricks.spark.csv',\n",
    "                        header='true',\n",
    "                        inferSchema=True)\n",
    "print_cols_types(crime_df)"
   ]
  },
  {
   "cell_type": "markdown",
   "metadata": {},
   "source": [
    "# Clean Up\n",
    "### Clean up Primary Type Column\n",
    "Some of the Primary Types had similar names that can be combined into one Primary Type."
   ]
  },
  {
   "cell_type": "code",
   "execution_count": 10,
   "metadata": {
    "scrolled": false
   },
   "outputs": [
    {
     "name": "stdout",
     "output_type": "stream",
     "text": [
      "+---------------------------------+\n",
      "|Primary Type                     |\n",
      "+---------------------------------+\n",
      "|ARSON                            |\n",
      "|ASSAULT                          |\n",
      "|BATTERY                          |\n",
      "|BURGLARY                         |\n",
      "|CONCEALED CARRY LICENSE VIOLATION|\n",
      "|CRIM SEXUAL ASSAULT              |\n",
      "|CRIMINAL DAMAGE                  |\n",
      "|CRIMINAL TRESPASS                |\n",
      "|DECEPTIVE PRACTICE               |\n",
      "|DOMESTIC VIOLENCE                |\n",
      "|GAMBLING                         |\n",
      "|HOMICIDE                         |\n",
      "|HUMAN TRAFFICKING                |\n",
      "|INTERFERENCE WITH PUBLIC OFFICER |\n",
      "|INTIMIDATION                     |\n",
      "|IUCR                             |\n",
      "|KIDNAPPING                       |\n",
      "|LIQUOR LAW VIOLATION             |\n",
      "|MOTOR VEHICLE THEFT              |\n",
      "|NARCOTICS                        |\n",
      "|NON - CRIMINAL                   |\n",
      "|NON-CRIMINAL                     |\n",
      "|NON-CRIMINAL (SUBJECT SPECIFIED) |\n",
      "|OBSCENITY                        |\n",
      "|OFFENSE INVOLVING CHILDREN       |\n",
      "|OTHER NARCOTIC VIOLATION         |\n",
      "|OTHER OFFENSE                    |\n",
      "|PROSTITUTION                     |\n",
      "|PUBLIC INDECENCY                 |\n",
      "|PUBLIC PEACE VIOLATION           |\n",
      "|RITUALISM                        |\n",
      "|ROBBERY                          |\n",
      "|SEX OFFENSE                      |\n",
      "|STALKING                         |\n",
      "|THEFT                            |\n",
      "|WEAPONS VIOLATION                |\n",
      "+---------------------------------+\n",
      "\n",
      "+---------------------------------+\n",
      "|Primary Type                     |\n",
      "+---------------------------------+\n",
      "|ARSON                            |\n",
      "|ASSAULT                          |\n",
      "|BATTERY                          |\n",
      "|BURGLARY                         |\n",
      "|CONCEALED CARRY LICENSE VIOLATION|\n",
      "|CRIM SEXUAL ASSAULT              |\n",
      "|CRIMINAL DAMAGE                  |\n",
      "|CRIMINAL TRESPASS                |\n",
      "|DECEPTIVE PRACTICE               |\n",
      "|DOMESTIC VIOLENCE                |\n",
      "|GAMBLING                         |\n",
      "|HOMICIDE                         |\n",
      "|HUMAN TRAFFICKING                |\n",
      "|INTERFERENCE WITH PUBLIC OFFICER |\n",
      "|INTIMIDATION                     |\n",
      "|IUCR                             |\n",
      "|KIDNAPPING                       |\n",
      "|LIQUOR LAW VIOLATION             |\n",
      "|MOTOR VEHICLE THEFT              |\n",
      "|NARCOTICS                        |\n",
      "|NON-CRIMINAL                     |\n",
      "|OBSCENITY                        |\n",
      "|OFFENSE INVOLVING CHILDREN       |\n",
      "|OTHER OFFENSE                    |\n",
      "|PROSTITUTION                     |\n",
      "|PUBLIC INDECENCY                 |\n",
      "|PUBLIC PEACE VIOLATION           |\n",
      "|RITUALISM                        |\n",
      "|ROBBERY                          |\n",
      "|SEX OFFENSE                      |\n",
      "|STALKING                         |\n",
      "|THEFT                            |\n",
      "|WEAPONS VIOLATION                |\n",
      "+---------------------------------+\n",
      "\n"
     ]
    }
   ],
   "source": [
    "def clean_primary_types(val):\n",
    "    \"\"\"UDF function to fix duplicate primary types\"\"\"\n",
    "    if val in (\"NON - CRIMINAL\", \"NON-CRIMINAL\", \"NON-CRIMINAL (SUBJECT SPECIFIED)\"):\n",
    "        return \"NON-CRIMINAL\"\n",
    "    if \"NARCOTIC\" in val:\n",
    "        return \"NARCOTICS\"\n",
    "    return val\n",
    "\n",
    "\n",
    "# Show current Primary Types\n",
    "crime_df.select(\"Primary Type\").distinct().sort(\"Primary Type\").show(200, False)\n",
    "\n",
    "clean_primary_types_udf = func.udf(clean_primary_types, StringType())\n",
    "crime_df = crime_df.withColumn(\"Primary Type\", clean_primary_types_udf(crime_df[\"Primary Type\"]))\n",
    "\n",
    "# Show cleaned Primary Types\n",
    "crime_df.select(\"Primary Type\").distinct().sort(\"Primary Type\").show(200, False)\n"
   ]
  },
  {
   "cell_type": "markdown",
   "metadata": {},
   "source": [
    "### Clean up District Column\n"
   ]
  },
  {
   "cell_type": "code",
   "execution_count": 11,
   "metadata": {},
   "outputs": [
    {
     "name": "stdout",
     "output_type": "stream",
     "text": [
      "+--------+\n",
      "|District|\n",
      "+--------+\n",
      "|null    |\n",
      "|1.0     |\n",
      "|10.0    |\n",
      "|11.0    |\n",
      "|12.0    |\n",
      "|13.0    |\n",
      "|14.0    |\n",
      "|15.0    |\n",
      "|16.0    |\n",
      "|17.0    |\n",
      "|18.0    |\n",
      "|19.0    |\n",
      "|2.0     |\n",
      "|20.0    |\n",
      "|21.0    |\n",
      "|22.0    |\n",
      "|23.0    |\n",
      "|24.0    |\n",
      "|25.0    |\n",
      "|3.0     |\n",
      "|31.0    |\n",
      "|4.0     |\n",
      "|5.0     |\n",
      "|6.0     |\n",
      "|7.0     |\n",
      "|8.0     |\n",
      "|9.0     |\n",
      "|Beat    |\n",
      "+--------+\n",
      "\n",
      "+--------+\n",
      "|District|\n",
      "+--------+\n",
      "|1       |\n",
      "|2       |\n",
      "|3       |\n",
      "|4       |\n",
      "|5       |\n",
      "|6       |\n",
      "|7       |\n",
      "|8       |\n",
      "|9       |\n",
      "|10      |\n",
      "|11      |\n",
      "|12      |\n",
      "|13      |\n",
      "|14      |\n",
      "|15      |\n",
      "|16      |\n",
      "|17      |\n",
      "|18      |\n",
      "|19      |\n",
      "|20      |\n",
      "|21      |\n",
      "|22      |\n",
      "|23      |\n",
      "|24      |\n",
      "|25      |\n",
      "|31      |\n",
      "+--------+\n",
      "\n"
     ]
    }
   ],
   "source": [
    "crime_df.select(\"District\").distinct().sort(\"District\").show(200, False)\n",
    "\n",
    "# integer cast will return null for string values like Beat\n",
    "crime_df = crime_df.withColumn(\"District\", crime_df[\"District\"].cast(\"integer\"))\n",
    "# now remove any nulls\n",
    "crime_df = crime_df.filter(crime_df[\"District\"].isNotNull())\n",
    "\n",
    "crime_df.select(\"District\").distinct().sort(\"District\").show(200, False)\n"
   ]
  },
  {
   "cell_type": "markdown",
   "metadata": {},
   "source": [
    "### Clean up Year Column\n",
    "\n",
    "There were some bad rows that did not contain valid years.\n",
    "I also chose to remove data for 2017 as it was incomplete and ended up being outliner in all of the analysis.\n"
   ]
  },
  {
   "cell_type": "code",
   "execution_count": 12,
   "metadata": {},
   "outputs": [
    {
     "name": "stdout",
     "output_type": "stream",
     "text": [
      "+------------+\n",
      "|        Year|\n",
      "+------------+\n",
      "|        2016|\n",
      "|        2012|\n",
      "|        2017|\n",
      "|        2014|\n",
      "|        2013|\n",
      "|        2005|\n",
      "|        2002|\n",
      "|        2009|\n",
      "|        2006|\n",
      "|        2004|\n",
      "|        2011|\n",
      "|        2008|\n",
      "|        2007|\n",
      "|41.789832136|\n",
      "|        2015|\n",
      "|        2001|\n",
      "|        2010|\n",
      "|        2003|\n",
      "+------------+\n",
      "\n",
      "Done cleaning year data...\n",
      "+----+\n",
      "|Year|\n",
      "+----+\n",
      "|2016|\n",
      "|2012|\n",
      "|2014|\n",
      "|2013|\n",
      "|2005|\n",
      "|2002|\n",
      "|2009|\n",
      "|2006|\n",
      "|2004|\n",
      "|2011|\n",
      "|2008|\n",
      "|2007|\n",
      "|2015|\n",
      "|2010|\n",
      "|2003|\n",
      "+----+\n",
      "\n"
     ]
    }
   ],
   "source": [
    "crime_df.select(\"Year\").distinct().show()\n",
    "\n",
    "# clean\n",
    "valid_years = list(range(2002, 2017))  # 2002 to 2016\n",
    "crime_df = crime_df.filter(crime_df.Year.isin(valid_years))\n",
    "\n",
    "print(\"Done cleaning year data...\")\n",
    "\n",
    "crime_df.select(\"Year\").distinct().show()\n"
   ]
  },
  {
   "cell_type": "markdown",
   "metadata": {},
   "source": [
    "### Join Community Areas"
   ]
  },
  {
   "cell_type": "code",
   "execution_count": 13,
   "metadata": {},
   "outputs": [
    {
     "name": "stdout",
     "output_type": "stream",
     "text": [
      "+--------------+---+-------+-----------+--------------------+-----------------+----+------------+--------------------+--------------------+------+--------+----+--------+----+--------+------------+------------+----+--------------------+--------+---------+--------+---------------------+\n",
      "|Community Area|_c0|     ID|Case Number|                Date|            Block|IUCR|Primary Type|         Description|Location Description|Arrest|Domestic|Beat|District|Ward|FBI Code|X Coordinate|Y Coordinate|Year|          Updated On|Latitude|Longitude|Location|Community Description|\n",
      "+--------------+---+-------+-----------+--------------------+-----------------+----+------------+--------------------+--------------------+------+--------+----+--------+----+--------+------------+------------+----+--------------------+--------+---------+--------+---------------------+\n",
      "|          46.0|879|4786321|   HM399414|01/01/2004 12:01:...|082XX S COLES AVE|0840|       THEFT|FINANCIAL ID THEF...|           RESIDENCE| False|   False| 424|       4| 7.0|      06|        null|        null|2004|08/17/2015 03:03:...|    null|     null|    null|        SOUTH CHICAGO|\n",
      "+--------------+---+-------+-----------+--------------------+-----------------+----+------------+--------------------+--------------------+------+--------+----+--------+----+--------+------------+------------+----+--------------------+--------+---------+--------+---------------------+\n",
      "only showing top 1 row\n",
      "\n"
     ]
    }
   ],
   "source": [
    "areas_df = areas_df.select(areas_df[\"AREA_NUM_1\"].alias(\"Community Area\"), \n",
    "                           areas_df[\"COMMUNITY\"].alias(\"Community Description\"))\n",
    "\n",
    "crime_df = crime_df.join(areas_df, \"Community Area\")\n",
    "crime_df.show(1)"
   ]
  },
  {
   "cell_type": "markdown",
   "metadata": {},
   "source": [
    "### Are there duplicates?\n",
    "Check for any duplicate rows, and drop if any."
   ]
  },
  {
   "cell_type": "code",
   "execution_count": 21,
   "metadata": {},
   "outputs": [
    {
     "name": "stdout",
     "output_type": "stream",
     "text": [
      "7227632\n",
      "5543285\n"
     ]
    }
   ],
   "source": [
    "# print(crime_df.count()) => 7227632\n",
    "# print(crime_df.dropDuplicates().count()) => 5543285"
   ]
  },
  {
   "cell_type": "code",
   "execution_count": 14,
   "metadata": {},
   "outputs": [
    {
     "name": "stdout",
     "output_type": "stream",
     "text": [
      "16\n",
      "200\n",
      "16\n"
     ]
    }
   ],
   "source": [
    "# print(crime_df.rdd.getNumPartitions())\n",
    "# crime_df = crime_df.dropDuplicates()\n",
    "# print(crime_df.rdd.getNumPartitions())\n",
    "\n",
    "# crime_df = crime_df.coalesce(16)\n",
    "# print(crime_df.rdd.getNumPartitions())\n"
   ]
  },
  {
   "cell_type": "markdown",
   "metadata": {},
   "source": [
    "# Location Analysis"
   ]
  },
  {
   "cell_type": "markdown",
   "metadata": {},
   "source": [
    "## Unique Crime Location Descriptions\n",
    "After grouping crime by location descriptions, I selected records with a count of one.\n",
    "These are the ones I defined as \"unique locations\"."
   ]
  },
  {
   "cell_type": "code",
   "execution_count": 7,
   "metadata": {},
   "outputs": [
    {
     "name": "stdout",
     "output_type": "stream",
     "text": [
      "*** Most Unique Crime Locations ***\n",
      "+----------------------+------------+----------------------+-----------+\n",
      "|LocationDescription   |Primary Type|Date                  |Case Number|\n",
      "+----------------------+------------+----------------------+-----------+\n",
      "|PUBLIC GRAMMAR SCHOOL |HOMICIDE    |07/09/2002 11:55:00 PM|HH499180   |\n",
      "|JUNK YARD/GARBAGE DUMP|HOMICIDE    |08/01/2002 04:15:00 AM|HH549811   |\n",
      "|FUNERAL PARLOR        |HOMICIDE    |11/13/2002 07:25:00 PM|HH777608   |\n",
      "|TRUCKING TERMINAL     |HOMICIDE    |08/14/2003 09:10:00 AM|HJ561015   |\n",
      "|YMCA                  |HOMICIDE    |05/22/2005 01:40:00 PM|HL371794   |\n",
      "|COACH HOUSE           |HOMICIDE    |06/04/2006 04:10:00 PM|HM393124   |\n",
      "|LIVERY AUTO           |HOMICIDE    |10/05/2006 04:50:00 AM|HM641124   |\n",
      "|BANQUET HALL          |HOMICIDE    |09/23/2007 01:23:00 AM|HN605728   |\n",
      "|ROOMING HOUSE         |HOMICIDE    |01/24/2009 02:26:00 AM|HR136031   |\n",
      "|ELEVATOR              |HOMICIDE    |01/29/2016 06:43:00 PM|HZ126483   |\n",
      "|CLEANERS/LAUNDROMAT   |HOMICIDE    |03/02/2016 02:10:00 PM|HZ171909   |\n",
      "|EXPRESSWAY EMBANKMENT |HOMICIDE    |02/22/2016 02:00:00 AM|HZ161008   |\n",
      "|CHURCH PROPERTY       |HOMICIDE    |11/26/2012 01:00:00 PM|HV577248   |\n",
      "|GOVERNMENT BUILDING   |HOMICIDE    |10/13/2014 06:15:00 AM|HX367730   |\n",
      "|POOLROOM              |HOMICIDE    |02/01/2016 02:45:00 AM|HZ136077   |\n",
      "|LAGOON                |HOMICIDE    |09/23/2016 12:01:00 PM|HZ446129   |\n",
      "+----------------------+------------+----------------------+-----------+\n",
      "\n"
     ]
    }
   ],
   "source": [
    "# Group by location descriptions\n",
    "location_all_counts_df = crime_df.groupBy(\"Location Description\").count()\n",
    "# Filter to locations that only appear once\n",
    "single_occurance_crime_df = location_all_counts_df.filter(\"count == 1\")\n",
    "# Use flat map to get a simple list\n",
    "locations = single_occurance_crime_df.select(\"Location Description\").rdd.flatMap(lambda x:x).collect()\n",
    "# Rename column to remove space, to get it working with isin() method and filter to get only uniq locations\n",
    "col_renamed_df = crime_df.withColumnRenamed(\"Location Description\", \"LocationDescription\")\n",
    "filtered_df = col_renamed_df.filter(col_renamed_df.LocationDescription.isin(locations))\n",
    "\n",
    "print(\"*** Most Unique Crime Locations ***\")\n",
    "filtered_df.select(\n",
    "    \"LocationDescription\", \"Primary Type\", \"Date\", \"Case Number\").show(50, False)\n"
   ]
  },
  {
   "cell_type": "markdown",
   "metadata": {},
   "source": [
    "## Top 10 Most Common Crime Location Descriptions"
   ]
  },
  {
   "cell_type": "code",
   "execution_count": 27,
   "metadata": {
    "scrolled": true
   },
   "outputs": [
    {
     "data": {
      "image/png": "[encoded data removed]",
      "text/plain": [
       "<matplotlib.figure.Figure at 0x7f6250e68a58>"
      ]
     },
     "metadata": {},
     "output_type": "display_data"
    }
   ],
   "source": [
    "location_counts_sorted_df = location_all_counts_df.sort(\"count\", ascending=False).limit(10)\n",
    "\n",
    "pdf = location_counts_sorted_df.toPandas()\n",
    "pdf = pdf.sort_values(by=\"count\", ascending=True)\n",
    "pdf.plot(kind='barh', x='Location Description', y='count', colormap='rainbow')\n",
    "plt.ylabel('Location of Crime')\n",
    "plt.xticks(rotation=30)\n",
    "plt.show()"
   ]
  },
  {
   "cell_type": "markdown",
   "metadata": {},
   "source": [
    "# Year Analysis"
   ]
  },
  {
   "cell_type": "markdown",
   "metadata": {},
   "source": [
    "## Homicides Per Year\n",
    "http://www.newsweek.com/2016/12/23/chicago-gangs-violence-murder-rate-532034.html"
   ]
  },
  {
   "cell_type": "code",
   "execution_count": 28,
   "metadata": {},
   "outputs": [
    {
     "data": {
      "image/png": "[encoded data removed]",
      "text/plain": [
       "<matplotlib.figure.Figure at 0x7f6248d50860>"
      ]
     },
     "metadata": {},
     "output_type": "display_data"
    }
   ],
   "source": [
    "homicide_per_year_df = crime_df.filter(crime_df[\"Primary Type\"] == 'HOMICIDE').groupBy(\"Year\").count().sort(\n",
    "    \"Year\", ascending=True)\n",
    "\n",
    "pdf = homicide_per_year_df.toPandas()\n",
    "pdf.plot(kind='bar', x='Year', y='count', colormap='plasma')\n",
    "plt.ylabel('Number of Homicides Reported')\n",
    "plt.xticks(rotation=30)\n",
    "plt.show()"
   ]
  },
  {
   "cell_type": "markdown",
   "metadata": {},
   "source": [
    "## Crimes Per Year\n",
    "Shows number of crimes reported by year."
   ]
  },
  {
   "cell_type": "code",
   "execution_count": 29,
   "metadata": {},
   "outputs": [
    {
     "data": {
      "image/png": "[encoded data removed]",
      "text/plain": [
       "<matplotlib.figure.Figure at 0x7f6248c21b38>"
      ]
     },
     "metadata": {},
     "output_type": "display_data"
    }
   ],
   "source": [
    "crime_per_year_df = crime_df.groupBy(\"Year\").count().sort(\"Year\")\n",
    "\n",
    "pdf = crime_per_year_df.toPandas()\n",
    "pdf.plot(kind='bar', x='Year', y='count', colormap='plasma')\n",
    "plt.ylabel('Number of Crimes Reported')\n",
    "plt.xticks(rotation=30)\n",
    "plt.show()"
   ]
  },
  {
   "cell_type": "markdown",
   "metadata": {},
   "source": [
    "# Arrests Per Year\n",
    "Shows number of actual arrests made by year. Not every crime reported resulted in an arrest. Sorted by years with highest arrest number."
   ]
  },
  {
   "cell_type": "code",
   "execution_count": 30,
   "metadata": {},
   "outputs": [
    {
     "data": {
      "image/png": "[encoded data removed]",
      "text/plain": [
       "<matplotlib.figure.Figure at 0x7f6248beb358>"
      ]
     },
     "metadata": {},
     "output_type": "display_data"
    }
   ],
   "source": [
    "arrests_per_year_df = crime_df.where(crime_df.Arrest == \"True\").groupBy(\"Year\").count().sort(\"Year\")\n",
    "\n",
    "pdf = arrests_per_year_df.toPandas()\n",
    "pdf.plot(kind='bar', x='Year', y='count', colormap='rainbow')\n",
    "plt.ylabel('Number of Arrests')\n",
    "plt.xticks(rotation=30)\n",
    "plt.show()\n"
   ]
  },
  {
   "cell_type": "markdown",
   "metadata": {},
   "source": [
    "# Crime to Arrest Ratio\n",
    "Calculate ratio of actual arrests from reported crime.\n",
    "Create two separate data frames containing year and counts, one with all crimes (all rows) and second with rows that have Arrest => true."
   ]
  },
  {
   "cell_type": "code",
   "execution_count": 31,
   "metadata": {},
   "outputs": [
    {
     "name": "stdout",
     "output_type": "stream",
     "text": [
      "*** Arrest Ratio per Year ***\n",
      "+----+------------+\n",
      "|Year|arrest_ratio|\n",
      "+----+------------+\n",
      "|2016|          18|\n",
      "|2012|          26|\n",
      "|2014|          28|\n",
      "|2013|          28|\n",
      "|2005|          30|\n",
      "|2002|          27|\n",
      "|2009|          28|\n",
      "|2006|          30|\n",
      "|2004|          30|\n",
      "|2011|          27|\n",
      "|2008|          25|\n",
      "|2007|          30|\n",
      "|2015|          26|\n",
      "|2010|          27|\n",
      "|2003|          29|\n",
      "+----+------------+\n",
      "\n"
     ]
    }
   ],
   "source": [
    "# Collect Year and Count with crimes that had arrests\n",
    "arrests_only_df = crime_df.where(crime_df.Arrest == \"True\")\n",
    "arrests_only_df = arrests_only_df.groupBy(\"Year\").agg(\n",
    "    func.count(arrests_only_df.ID).alias(\"arrest_count\")) \n",
    "\n",
    "# Collect Year and Count with all crimes\n",
    "all_crime_df = crime_df.groupBy(\"Year\").agg(\n",
    "    func.count(crime_df.ID).alias(\"crime_count\")) \n",
    "\n",
    "# Join arrests only and all crime stats counts into one \"table\"\n",
    "joined_df = all_crime_df.join(arrests_only_df, \"Year\")\n",
    "\n",
    "# Get ratio\n",
    "print(\"*** Arrest Ratio per Year ***\")\n",
    "ratio_df = joined_df.select(joined_df.Year, (\n",
    "    (joined_df.arrest_count / joined_df.crime_count) * 100).cast(\"integer\").alias(\"arrest_ratio\")\n",
    ")\n",
    "ratio_df.show()\n"
   ]
  },
  {
   "cell_type": "markdown",
   "metadata": {},
   "source": [
    "info online discussing arrests precentages significantly down in recent years (2016, 2017)\n",
    "https://chicago.suntimes.com/chicago-politics/the-watchdogs-arrests-down-25-percent-in-chicago-this-year/\n",
    "https://www.google.com/search?q=chicago+arrests+down+in+2016&oq=chicago+arrests+down+in+2016&aqs=chrome..69i57.5702j0j4&sourceid=chrome&ie=UTF-8"
   ]
  },
  {
   "cell_type": "code",
   "execution_count": 32,
   "metadata": {},
   "outputs": [
    {
     "data": {
      "image/png": "[encoded data removed]",
      "text/plain": [
       "<matplotlib.figure.Figure at 0x7f625188c3c8>"
      ]
     },
     "metadata": {},
     "output_type": "display_data"
    }
   ],
   "source": [
    "pdf = ratio_df.sort(\"Year\").toPandas()\n",
    "pdf.plot(kind='line', x='Year', y='arrest_ratio', colormap='rainbow')\n",
    "plt.ylabel('Crime to Arrest Ratio')\n",
    "plt.show()"
   ]
  },
  {
   "cell_type": "markdown",
   "metadata": {},
   "source": [
    "# Top Crimes per Year"
   ]
  },
  {
   "cell_type": "code",
   "execution_count": 33,
   "metadata": {},
   "outputs": [
    {
     "name": "stdout",
     "output_type": "stream",
     "text": [
      "+------+----+------------+\n",
      "| count|Year|Primary Type|\n",
      "+------+----+------------+\n",
      "| 73820|2002|       THEFT|\n",
      "| 99057|2003|       THEFT|\n",
      "| 81358|2004|       THEFT|\n",
      "| 86392|2005|       THEFT|\n",
      "|152265|2006|       THEFT|\n",
      "|118801|2007|       THEFT|\n",
      "|176478|2008|       THEFT|\n",
      "|161693|2009|       THEFT|\n",
      "|144312|2010|       THEFT|\n",
      "| 75205|2011|       THEFT|\n",
      "| 75447|2012|       THEFT|\n",
      "| 71523|2013|       THEFT|\n",
      "| 61529|2014|       THEFT|\n",
      "| 57292|2015|       THEFT|\n",
      "| 61167|2016|       THEFT|\n",
      "+------+----+------------+\n",
      "\n"
     ]
    }
   ],
   "source": [
    "year_max_cnt_df = crime_df.groupBy(\"Year\", \"Primary Type\").count().groupBy(\"Year\").agg(\n",
    "    func.max(\"count\").alias(\"count\"))\n",
    "year_type_count_df = crime_df.groupBy(\"Year\", \"Primary Type\").count()\n",
    "year_type_count_df.join(year_max_cnt_df, [\"count\", \"Year\"]).sort(\"Year\").show()"
   ]
  },
  {
   "cell_type": "markdown",
   "metadata": {},
   "source": [
    "# Least Crimes per Year"
   ]
  },
  {
   "cell_type": "code",
   "execution_count": 34,
   "metadata": {},
   "outputs": [
    {
     "name": "stdout",
     "output_type": "stream",
     "text": [
      "+-----+----+-----------------+\n",
      "|count|Year|     Primary Type|\n",
      "+-----+----+-----------------+\n",
      "|    2|2002|        RITUALISM|\n",
      "|    1|2003|     NON-CRIMINAL|\n",
      "|    1|2003|        RITUALISM|\n",
      "|    1|2004|        RITUALISM|\n",
      "|    3|2005|        RITUALISM|\n",
      "|    8|2006| PUBLIC INDECENCY|\n",
      "|    1|2007|        RITUALISM|\n",
      "|    8|2008| PUBLIC INDECENCY|\n",
      "|    1|2009|     NON-CRIMINAL|\n",
      "|    2|2010|     NON-CRIMINAL|\n",
      "|   13|2011| PUBLIC INDECENCY|\n",
      "|    8|2012|     NON-CRIMINAL|\n",
      "|    2|2013|HUMAN TRAFFICKING|\n",
      "|    2|2014|HUMAN TRAFFICKING|\n",
      "|   13|2015|HUMAN TRAFFICKING|\n",
      "|   10|2016| PUBLIC INDECENCY|\n",
      "+-----+----+-----------------+\n",
      "\n"
     ]
    }
   ],
   "source": [
    "year_max_cnt_df = crime_df.groupBy(\"Year\", \"Primary Type\").count().groupBy(\"Year\").agg(\n",
    "    func.min(\"count\").alias(\"count\"))\n",
    "year_type_count_df = crime_df.groupBy(\"Year\", \"Primary Type\").count()\n",
    "year_type_count_df.join(year_max_cnt_df, [\"count\", \"Year\"]).sort(\"Year\").show()"
   ]
  },
  {
   "cell_type": "markdown",
   "metadata": {},
   "source": [
    "# Top 10 Crimes\n",
    "Top 10 crimes, all years.\n",
    "Collect count of each crime type per year, then take an average of counts to get top 10 crimes."
   ]
  },
  {
   "cell_type": "code",
   "execution_count": 35,
   "metadata": {},
   "outputs": [
    {
     "name": "stdout",
     "output_type": "stream",
     "text": [
      "+-------------------+---------+\n",
      "|       Primary Type|Avg Count|\n",
      "+-------------------+---------+\n",
      "|              THEFT|    99755|\n",
      "|            BATTERY|    87061|\n",
      "|    CRIMINAL DAMAGE|    56011|\n",
      "|          NARCOTICS|    53853|\n",
      "|      OTHER OFFENSE|    29666|\n",
      "|            ASSAULT|    29033|\n",
      "|           BURGLARY|    28881|\n",
      "|MOTOR VEHICLE THEFT|    22103|\n",
      "|            ROBBERY|    18220|\n",
      "| DECEPTIVE PRACTICE|    17294|\n",
      "+-------------------+---------+\n",
      "\n"
     ]
    }
   ],
   "source": [
    "temp_df = crime_df.groupBy(\"Year\", \"Primary Type\").count().groupBy(\"Primary Type\").agg(\n",
    "    func.avg(\"count\").cast(\"integer\").alias(\"Avg Count\"))\n",
    "temp_df.sort(\"Avg Count\", ascending=False).limit(10).show()"
   ]
  },
  {
   "cell_type": "markdown",
   "metadata": {},
   "source": [
    "# Top 10 Crimes with Arrests\n",
    "Top 10 crimes, all years that resulted in arrests.\n",
    "Collect count of each crime type per year that had Arrests=True, then take an average of counts to get top 10 crimes."
   ]
  },
  {
   "cell_type": "code",
   "execution_count": 37,
   "metadata": {},
   "outputs": [
    {
     "name": "stdout",
     "output_type": "stream",
     "text": [
      "+------------------+---------+\n",
      "|      Primary Type|Avg Count|\n",
      "+------------------+---------+\n",
      "|         NARCOTICS|    53391|\n",
      "|           BATTERY|    19973|\n",
      "|             THEFT|    11561|\n",
      "| CRIMINAL TRESPASS|    10136|\n",
      "|           ASSAULT|     6886|\n",
      "|      PROSTITUTION|     5127|\n",
      "|     OTHER OFFENSE|     5010|\n",
      "|   CRIMINAL DAMAGE|     3908|\n",
      "| WEAPONS VIOLATION|     3779|\n",
      "|DECEPTIVE PRACTICE|     3053|\n",
      "+------------------+---------+\n",
      "\n"
     ]
    }
   ],
   "source": [
    "temp_df = crime_df.where(crime_df.Arrest == \"True\").groupBy(\"Year\", \"Primary Type\").count().groupBy(\"Primary Type\").agg(\n",
    "    func.avg(\"count\").cast(\"integer\").alias(\"Avg Count\"))\n",
    "temp_df.sort(\"Avg Count\", ascending=False).limit(10).show()"
   ]
  },
  {
   "cell_type": "markdown",
   "metadata": {},
   "source": [
    "## Most Dangerous / Safest Hour\n",
    "\n",
    "Calculates counts of crimes per date, then take an average of those counts to determine safest / most dangerous hour.\n"
   ]
  },
  {
   "cell_type": "code",
   "execution_count": 38,
   "metadata": {},
   "outputs": [
    {
     "name": "stdout",
     "output_type": "stream",
     "text": [
      "+--------+--------+\n",
      "|JustHour|AvgCount|\n",
      "+--------+--------+\n",
      "|00      |75      |\n",
      "|20      |75      |\n",
      "|19      |75      |\n",
      "|21      |74      |\n",
      "|12      |74      |\n",
      "|22      |73      |\n",
      "|18      |71      |\n",
      "|15      |70      |\n",
      "|17      |66      |\n",
      "|14      |66      |\n",
      "|16      |65      |\n",
      "|13      |62      |\n",
      "|23      |60      |\n",
      "|11      |58      |\n",
      "|09      |56      |\n",
      "|10      |55      |\n",
      "|08      |44      |\n",
      "|01      |42      |\n",
      "|02      |35      |\n",
      "|07      |30      |\n",
      "|03      |28      |\n",
      "|06      |21      |\n",
      "|04      |21      |\n",
      "|05      |17      |\n",
      "+--------+--------+\n",
      "\n"
     ]
    }
   ],
   "source": [
    "date_format = \"MM/dd/yyyy hh:mm:ss a\"\n",
    "\n",
    "by_hour_df = crime_df.select(\n",
    "    func.date_format(func.unix_timestamp(crime_df.Date, date_format\n",
    "        ).cast(\"timestamp\"), \"MM/dd/yyyy\").alias(\"JustDate\"), \n",
    "    func.date_format(func.unix_timestamp(crime_df.Date, date_format\n",
    "        ).cast(\"timestamp\"), \"HH\").alias(\"JustHour\")\n",
    "    ).groupBy(\"JustDate\", \"JustHour\").count().groupBy(\"JustHour\").agg(\n",
    "        func.avg(\"count\").cast(\"integer\").alias(\"AvgCount\")).sort(\"AvgCount\", ascending=False)\n",
    "by_hour_df.show(24, False)"
   ]
  },
  {
   "cell_type": "code",
   "execution_count": 46,
   "metadata": {},
   "outputs": [
    {
     "data": {
      "image/png": "[encoded data removed]",
      "text/plain": [
       "<matplotlib.figure.Figure at 0x7f045868fba8>"
      ]
     },
     "metadata": {},
     "output_type": "display_data"
    }
   ],
   "source": [
    "pdf = by_hour_df.sort(\"JustHour\").toPandas()\n",
    "pdf.plot(kind='line', x='JustHour', y='AvgCount', colormap='terrain')\n",
    "plt.show()"
   ]
  },
  {
   "cell_type": "markdown",
   "metadata": {},
   "source": [
    "## Time of Day to Crime Rates (Homicide, Burglary, Arson, Theft)"
   ]
  },
  {
   "cell_type": "code",
   "execution_count": 14,
   "metadata": {},
   "outputs": [
    {
     "data": {
      "image/png": "[encoded data removed]",
      "text/plain": [
       "<matplotlib.figure.Figure at 0x7fee14f4e898>"
      ]
     },
     "metadata": {},
     "output_type": "display_data"
    },
    {
     "data": {
      "image/png": "[encoded data removed]",
      "text/plain": [
       "<matplotlib.figure.Figure at 0x7fee14f4ed68>"
      ]
     },
     "metadata": {},
     "output_type": "display_data"
    },
    {
     "data": {
      "image/png": "[encoded data removed]",
      "text/plain": [
       "<matplotlib.figure.Figure at 0x7fee151d1160>"
      ]
     },
     "metadata": {},
     "output_type": "display_data"
    },
    {
     "data": {
      "image/png": "[encoded data removed]",
      "text/plain": [
       "<matplotlib.figure.Figure at 0x7fee0cf92048>"
      ]
     },
     "metadata": {},
     "output_type": "display_data"
    }
   ],
   "source": [
    "date_format = \"MM/dd/yyyy hh:mm:ss a\"\n",
    "\n",
    "for pri_type in (\"HOMICIDE\", \"BURGLARY\", \"ARSON\", \"THEFT\"):\n",
    "    hour_counts_df = crime_df.filter(crime_df[\"Primary Type\"] == pri_type).select(\n",
    "            func.date_format(func.unix_timestamp(crime_df.Date, date_format\n",
    "        ).cast(\"timestamp\"), \"HH\").alias(\"Hour\")).groupBy(\"Hour\").count()\n",
    "    pdf = hour_counts_df.sort(\"Hour\").toPandas()\n",
    "    pdf.plot(kind='line', x='Hour', y='count', colormap='terrain')\n",
    "    plt.ylabel('%s Count' % pri_type)\n",
    "    plt.show()"
   ]
  },
  {
   "cell_type": "markdown",
   "metadata": {},
   "source": [
    "# Crimes by Districts / Community\n",
    "\n",
    "http://gis.chicagopolice.org/website/ClearMap/viewer.htm?POLICEDIST=011\n",
    "\n",
    "<img src=\"http://chronicle.uchicago.edu/991104/map.gif\">\n",
    "<img src=\"https://home.chicagopolice.org/wp-content/uploads/2014/11/communitymap_preview.png\">\n"
   ]
  },
  {
   "cell_type": "code",
   "execution_count": 15,
   "metadata": {},
   "outputs": [
    {
     "name": "stdout",
     "output_type": "stream",
     "text": [
      "+--------+-----+--------------------------------------------------------------------------------------------------------------------------------------------------------------------------------------------------------------------------------------------------------------------------------------------------------------------------------------------------------------------------------------------------------------------------------------------+\n",
      "|District|count|communities                                                                                                                                                                                                                                                                                                                                                                                                                                 |\n",
      "+--------+-----+--------------------------------------------------------------------------------------------------------------------------------------------------------------------------------------------------------------------------------------------------------------------------------------------------------------------------------------------------------------------------------------------------------------------------------------------+\n",
      "|31      |154  |[WEST PULLMAN, WOODLAWN, WEST ENGLEWOOD, UPTOWN, ROSELAND, PORTAGE PARK, WEST LAWN, AVALON PARK, OHARE, DUNNING, AUSTIN, SOUTH CHICAGO, WEST TOWN, GREATER GRAND CROSSING, ENGLEWOOD, SOUTH LAWNDALE, MORGAN PARK, EAST SIDE, WEST GARFIELD PARK, LOGAN SQUARE, NORTH CENTER, SOUTH SHORE, EAST GARFIELD PARK, AUBURN GRESHAM, HUMBOLDT PARK, IRVING PARK, NORWOOD PARK, LOOP, NEW CITY, CHICAGO LAWN, NORTH LAWNDALE, CHATHAM, EDISON PARK]|\n",
      "+--------+-----+--------------------------------------------------------------------------------------------------------------------------------------------------------------------------------------------------------------------------------------------------------------------------------------------------------------------------------------------------------------------------------------------------------------------------------------------+\n",
      "only showing top 1 row\n",
      "\n",
      "*** Top 5 Low Crime Districts ***\n",
      "+--------+------+\n",
      "|District|count |\n",
      "+--------+------+\n",
      "|13      |1     |\n",
      "|23      |1     |\n",
      "|21      |4     |\n",
      "|31      |154   |\n",
      "|20      |122930|\n",
      "+--------+------+\n",
      "\n",
      "*** Top 10 High Crime Districts ***\n",
      "+--------+------+\n",
      "|District|count |\n",
      "+--------+------+\n",
      "|8       |504216|\n",
      "|11      |457205|\n",
      "|7       |437822|\n",
      "|25      |422937|\n",
      "|6       |420039|\n",
      "|4       |416724|\n",
      "|3       |372025|\n",
      "|9       |362309|\n",
      "|12      |349141|\n",
      "|2       |326474|\n",
      "+--------+------+\n",
      "\n"
     ]
    }
   ],
   "source": [
    "by_district_df = crime_df.groupBy(crime_df[\"District\"]).agg(\n",
    "    func.count(crime_df.ID).alias(\"count\"), func.collect_set(crime_df[\"Community Description\"]).alias(\"communities\"))\n",
    "by_district_df.show(1, False)\n",
    "\n",
    "# From output we can see that communities don't map correctly to districts; don't use it.\n",
    "\n",
    "print(\"*** Top 5 Low Crime Districts ***\")\n",
    "by_district_df.sort(\"count\").select(crime_df[\"District\"].cast(\"integer\"), \"count\").limit(5).show(10, False)\n",
    "\n",
    "print(\"*** Top 10 High Crime Districts ***\")\n",
    "by_district_df.sort(\"count\", ascending=False).select(\n",
    "    crime_df[\"District\"].cast(\"integer\"), \"count\").limit(10).show(10, False)"
   ]
  },
  {
   "cell_type": "code",
   "execution_count": 16,
   "metadata": {},
   "outputs": [
    {
     "name": "stdout",
     "output_type": "stream",
     "text": [
      "*** Top 5 Low Homicide Districts ***\n",
      "+--------+-----+\n",
      "|District|count|\n",
      "+--------+-----+\n",
      "|      20|   54|\n",
      "|      16|   65|\n",
      "|       1|   67|\n",
      "|      18|   83|\n",
      "|      19|  113|\n",
      "+--------+-----+\n",
      "\n",
      "*** Top 10 High Homicide Districts ***\n",
      "+--------+-----+\n",
      "|District|count|\n",
      "+--------+-----+\n",
      "|      11|  724|\n",
      "|       7|  710|\n",
      "|       6|  559|\n",
      "|      10|  522|\n",
      "|       4|  511|\n",
      "|       9|  493|\n",
      "|       8|  489|\n",
      "|       3|  488|\n",
      "|       5|  461|\n",
      "|      15|  426|\n",
      "+--------+-----+\n",
      "\n"
     ]
    }
   ],
   "source": [
    "homicide_by_district_df = crime_df.filter(\n",
    "    crime_df[\"Primary Type\"] == \"HOMICIDE\").groupBy(crime_df[\"District\"]).count()\n",
    "\n",
    "print(\"*** Top 5 Low Homicide Districts ***\")\n",
    "homicide_by_district_df.sort(\"count\").select(crime_df[\"District\"].cast(\"integer\"), \"count\").limit(5).show()\n",
    "\n",
    "print(\"*** Top 10 High Homicide Districts ***\")\n",
    "homicide_by_district_df.sort(\"count\", ascending=False).select(\n",
    "    crime_df[\"District\"].cast(\"integer\"), \"count\").limit(10).show()"
   ]
  },
  {
   "cell_type": "markdown",
   "metadata": {},
   "source": [
    "https://www.themarshallproject.org/2016/09/20/the-most-dangerous-neighborhood-the-most-inexperienced-cops\n",
    "<blockquote>\n",
    "The officers who patrol the Chicago’s 11th Police District face a daunting challenge. The district, which is centered around Garfield Park on the city’s West Side, has the highest murder rate in the city, and it’s rising fast.\n",
    "</blockquote>"
   ]
  },
  {
   "cell_type": "markdown",
   "metadata": {},
   "source": [
    "### Community areas with Most / Least Homicides"
   ]
  },
  {
   "cell_type": "code",
   "execution_count": 18,
   "metadata": {},
   "outputs": [
    {
     "name": "stdout",
     "output_type": "stream",
     "text": [
      "*** Top 3 Low Homicide Community ***\n",
      "+---------------------+-----+\n",
      "|Community Description|count|\n",
      "+---------------------+-----+\n",
      "|          EDISON PARK|    1|\n",
      "|      MOUNT GREENWOOD|    2|\n",
      "|          FOREST GLEN|    4|\n",
      "+---------------------+-----+\n",
      "\n",
      "*** Top 3 High Homicide Community ***\n",
      "+---------------------+-----+\n",
      "|Community Description|count|\n",
      "+---------------------+-----+\n",
      "|               AUSTIN|  606|\n",
      "|       WEST ENGLEWOOD|  350|\n",
      "|            ENGLEWOOD|  336|\n",
      "|        HUMBOLDT PARK|  330|\n",
      "|       NORTH LAWNDALE|  307|\n",
      "+---------------------+-----+\n",
      "\n"
     ]
    }
   ],
   "source": [
    "homicide_by_comm_desrc_df = crime_df.filter(\n",
    "    crime_df[\"Primary Type\"] == \"HOMICIDE\").groupBy(crime_df[\"Community Description\"]).count()\n",
    "\n",
    "print(\"*** Top 3 Low Homicide Community ***\")\n",
    "homicide_by_comm_desrc_df.sort(\"count\").limit(3).show()\n",
    "\n",
    "print(\"*** Top 3 High Homicide Community ***\")\n",
    "homicide_by_comm_desrc_df.sort(\"count\", ascending=False).limit(5).show()"
   ]
  }
 ],
 "metadata": {
  "kernelspec": {
   "display_name": "Python 3",
   "language": "python",
   "name": "python3"
  },
  "language_info": {
   "codemirror_mode": {
    "name": "ipython",
    "version": 3
   },
   "file_extension": ".py",
   "mimetype": "text/x-python",
   "name": "python",
   "nbconvert_exporter": "python",
   "pygments_lexer": "ipython3",
   "version": "3.6.3"
  }
 },
 "nbformat": 4,
 "nbformat_minor": 2
}
